{
 "cells": [
  {
   "cell_type": "code",
   "execution_count": 1,
   "id": "daac01bb",
   "metadata": {},
   "outputs": [],
   "source": [
    "import numpy as np\n",
    "import pandas as pd\n",
    "import seaborn as sns\n",
    "import matplotlib.pyplot as plt\n",
    "\n",
    "sns.set_style('dark')\n"
   ]
  },
  {
   "cell_type": "code",
   "execution_count": 13,
   "id": "2c77e3da",
   "metadata": {},
   "outputs": [],
   "source": [
    "## Load Dataset\n",
    "\n",
    "import os\n",
    "for dirname,_,filenames in os.walk('/kaggle/input'):\n",
    "    for filename in filenames:\n",
    "        print(os.path.join(dirname,filename))\n",
    "    \n",
    "train=pd.read_csv(r\"C:\\Users\\VIKRAMJEET\\Downloads\\Data Science\\Python by Harshil Bansal\\Datasets\\titanic\\train.csv\")\n",
    "test=pd.read_csv(r\"C:\\Users\\VIKRAMJEET\\Downloads\\Data Science\\Python by Harshil Bansal\\Datasets\\titanic\\test.csv\")\n"
   ]
  },
  {
   "cell_type": "code",
   "execution_count": 14,
   "id": "658aba92",
   "metadata": {},
   "outputs": [
    {
     "name": "stdout",
     "output_type": "stream",
     "text": [
      "Train set shape: (891, 12)\n",
      "Test set shape: (418, 11)\n"
     ]
    }
   ],
   "source": [
    "print(f\"Train set shape: {train.shape}\")\n",
    "print(f\"Test set shape: {test.shape}\")"
   ]
  },
  {
   "cell_type": "code",
   "execution_count": 17,
   "id": "6401cc29",
   "metadata": {},
   "outputs": [
    {
     "name": "stdout",
     "output_type": "stream",
     "text": [
      "Combined dataset shape : (1309, 12)\n"
     ]
    }
   ],
   "source": [
    "## Merge train and test data\n",
    "df = pd.concat([train,test])\n",
    "print(f\"Combined dataset shape : {df.shape}\")"
   ]
  },
  {
   "cell_type": "code",
   "execution_count": 18,
   "id": "e87b3999",
   "metadata": {},
   "outputs": [
    {
     "name": "stdout",
     "output_type": "stream",
     "text": [
      "<class 'pandas.core.frame.DataFrame'>\n",
      "Int64Index: 1309 entries, 0 to 417\n",
      "Data columns (total 12 columns):\n",
      " #   Column       Non-Null Count  Dtype  \n",
      "---  ------       --------------  -----  \n",
      " 0   PassengerId  1309 non-null   int64  \n",
      " 1   Survived     891 non-null    float64\n",
      " 2   Pclass       1309 non-null   int64  \n",
      " 3   Name         1309 non-null   object \n",
      " 4   Sex          1309 non-null   object \n",
      " 5   Age          1046 non-null   float64\n",
      " 6   SibSp        1309 non-null   int64  \n",
      " 7   Parch        1309 non-null   int64  \n",
      " 8   Ticket       1309 non-null   object \n",
      " 9   Fare         1308 non-null   float64\n",
      " 10  Cabin        295 non-null    object \n",
      " 11  Embarked     1307 non-null   object \n",
      "dtypes: float64(3), int64(4), object(5)\n",
      "memory usage: 132.9+ KB\n"
     ]
    }
   ],
   "source": [
    "## Data overview\n",
    "df.info()\n"
   ]
  },
  {
   "cell_type": "markdown",
   "id": "957f0b45",
   "metadata": {},
   "source": [
    " - Column survived is the target column\n",
    " - Column age seems to have some missing values which can be handled\n",
    " - Column Fare also has 1 missing value which is easy to fix\n",
    " - Cabin has most missing values thus dropping it would be the best option\n",
    " - Passenger ID is just an identification interger thus can be dropped"
   ]
  },
  {
   "cell_type": "code",
   "execution_count": 22,
   "id": "5e811462",
   "metadata": {},
   "outputs": [
    {
     "data": {
      "text/plain": [
       "Text(0, 0.5, 'Column Count')"
      ]
     },
     "execution_count": 22,
     "metadata": {},
     "output_type": "execute_result"
    },
    {
     "data": {
      "image/png": "[encoded data removed]",
      "text/plain": [
       "<Figure size 432x288 with 1 Axes>"
      ]
     },
     "metadata": {},
     "output_type": "display_data"
    }
   ],
   "source": [
    "df.dtypes.value_counts().plot(kind='bar',title='Columns By Data Types')\n",
    "plt.xlabel('Data Types')\n",
    "plt.ylabel('Column Count')"
   ]
  },
  {
   "cell_type": "markdown",
   "id": "9ab654c2",
   "metadata": {},
   "source": [
    "- There are more categorical variables than continous ones"
   ]
  },
  {
   "cell_type": "markdown",
   "id": "5e219240",
   "metadata": {},
   "source": [
    "### Explore categorical variables"
   ]
  },
  {
   "cell_type": "code",
   "execution_count": 23,
   "id": "5c61f790",
   "metadata": {},
   "outputs": [
    {
     "data": {
      "text/html": [
       "<div>\n",
       "<style scoped>\n",
       "    .dataframe tbody tr th:only-of-type {\n",
       "        vertical-align: middle;\n",
       "    }\n",
       "\n",
       "    .dataframe tbody tr th {\n",
       "        vertical-align: top;\n",
       "    }\n",
       "\n",
       "    .dataframe thead th {\n",
       "        text-align: right;\n",
       "    }\n",
       "</style>\n",
       "<table border=\"1\" class=\"dataframe\">\n",
       "  <thead>\n",
       "    <tr style=\"text-align: right;\">\n",
       "      <th></th>\n",
       "      <th>Name</th>\n",
       "      <th>Sex</th>\n",
       "      <th>Ticket</th>\n",
       "      <th>Cabin</th>\n",
       "      <th>Embarked</th>\n",
       "    </tr>\n",
       "  </thead>\n",
       "  <tbody>\n",
       "    <tr>\n",
       "      <th>0</th>\n",
       "      <td>Braund, Mr. Owen Harris</td>\n",
       "      <td>male</td>\n",
       "      <td>A/5 21171</td>\n",
       "      <td>NaN</td>\n",
       "      <td>S</td>\n",
       "    </tr>\n",
       "    <tr>\n",
       "      <th>1</th>\n",
       "      <td>Cumings, Mrs. John Bradley (Florence Briggs Th...</td>\n",
       "      <td>female</td>\n",
       "      <td>PC 17599</td>\n",
       "      <td>C85</td>\n",
       "      <td>C</td>\n",
       "    </tr>\n",
       "    <tr>\n",
       "      <th>2</th>\n",
       "      <td>Heikkinen, Miss. Laina</td>\n",
       "      <td>female</td>\n",
       "      <td>STON/O2. 3101282</td>\n",
       "      <td>NaN</td>\n",
       "      <td>S</td>\n",
       "    </tr>\n",
       "    <tr>\n",
       "      <th>3</th>\n",
       "      <td>Futrelle, Mrs. Jacques Heath (Lily May Peel)</td>\n",
       "      <td>female</td>\n",
       "      <td>113803</td>\n",
       "      <td>C123</td>\n",
       "      <td>S</td>\n",
       "    </tr>\n",
       "    <tr>\n",
       "      <th>4</th>\n",
       "      <td>Allen, Mr. William Henry</td>\n",
       "      <td>male</td>\n",
       "      <td>373450</td>\n",
       "      <td>NaN</td>\n",
       "      <td>S</td>\n",
       "    </tr>\n",
       "  </tbody>\n",
       "</table>\n",
       "</div>"
      ],
      "text/plain": [
       "                                                Name     Sex  \\\n",
       "0                            Braund, Mr. Owen Harris    male   \n",
       "1  Cumings, Mrs. John Bradley (Florence Briggs Th...  female   \n",
       "2                             Heikkinen, Miss. Laina  female   \n",
       "3       Futrelle, Mrs. Jacques Heath (Lily May Peel)  female   \n",
       "4                           Allen, Mr. William Henry    male   \n",
       "\n",
       "             Ticket Cabin Embarked  \n",
       "0         A/5 21171   NaN        S  \n",
       "1          PC 17599   C85        C  \n",
       "2  STON/O2. 3101282   NaN        S  \n",
       "3            113803  C123        S  \n",
       "4            373450   NaN        S  "
      ]
     },
     "execution_count": 23,
     "metadata": {},
     "output_type": "execute_result"
    }
   ],
   "source": [
    "df.select_dtypes(object).head()"
   ]
  },
  {
   "cell_type": "markdown",
   "id": "4eaf6b45",
   "metadata": {},
   "source": [
    "### Explore continous variables"
   ]
  },
  {
   "cell_type": "code",
   "execution_count": 26,
   "id": "927e0839",
   "metadata": {},
   "outputs": [
    {
     "data": {
      "text/html": [
       "<div>\n",
       "<style scoped>\n",
       "    .dataframe tbody tr th:only-of-type {\n",
       "        vertical-align: middle;\n",
       "    }\n",
       "\n",
       "    .dataframe tbody tr th {\n",
       "        vertical-align: top;\n",
       "    }\n",
       "\n",
       "    .dataframe thead th {\n",
       "        text-align: right;\n",
       "    }\n",
       "</style>\n",
       "<table border=\"1\" class=\"dataframe\">\n",
       "  <thead>\n",
       "    <tr style=\"text-align: right;\">\n",
       "      <th></th>\n",
       "      <th>PassengerId</th>\n",
       "      <th>Survived</th>\n",
       "      <th>Pclass</th>\n",
       "      <th>Age</th>\n",
       "      <th>SibSp</th>\n",
       "      <th>Parch</th>\n",
       "      <th>Fare</th>\n",
       "    </tr>\n",
       "  </thead>\n",
       "  <tbody>\n",
       "    <tr>\n",
       "      <th>0</th>\n",
       "      <td>1</td>\n",
       "      <td>0.0</td>\n",
       "      <td>3</td>\n",
       "      <td>22.0</td>\n",
       "      <td>1</td>\n",
       "      <td>0</td>\n",
       "      <td>7.2500</td>\n",
       "    </tr>\n",
       "    <tr>\n",
       "      <th>1</th>\n",
       "      <td>2</td>\n",
       "      <td>1.0</td>\n",
       "      <td>1</td>\n",
       "      <td>38.0</td>\n",
       "      <td>1</td>\n",
       "      <td>0</td>\n",
       "      <td>71.2833</td>\n",
       "    </tr>\n",
       "    <tr>\n",
       "      <th>2</th>\n",
       "      <td>3</td>\n",
       "      <td>1.0</td>\n",
       "      <td>3</td>\n",
       "      <td>26.0</td>\n",
       "      <td>0</td>\n",
       "      <td>0</td>\n",
       "      <td>7.9250</td>\n",
       "    </tr>\n",
       "    <tr>\n",
       "      <th>3</th>\n",
       "      <td>4</td>\n",
       "      <td>1.0</td>\n",
       "      <td>1</td>\n",
       "      <td>35.0</td>\n",
       "      <td>1</td>\n",
       "      <td>0</td>\n",
       "      <td>53.1000</td>\n",
       "    </tr>\n",
       "    <tr>\n",
       "      <th>4</th>\n",
       "      <td>5</td>\n",
       "      <td>0.0</td>\n",
       "      <td>3</td>\n",
       "      <td>35.0</td>\n",
       "      <td>0</td>\n",
       "      <td>0</td>\n",
       "      <td>8.0500</td>\n",
       "    </tr>\n",
       "  </tbody>\n",
       "</table>\n",
       "</div>"
      ],
      "text/plain": [
       "   PassengerId  Survived  Pclass   Age  SibSp  Parch     Fare\n",
       "0            1       0.0       3  22.0      1      0   7.2500\n",
       "1            2       1.0       1  38.0      1      0  71.2833\n",
       "2            3       1.0       3  26.0      0      0   7.9250\n",
       "3            4       1.0       1  35.0      1      0  53.1000\n",
       "4            5       0.0       3  35.0      0      0   8.0500"
      ]
     },
     "execution_count": 26,
     "metadata": {},
     "output_type": "execute_result"
    }
   ],
   "source": [
    "df.select_dtypes('number').head()"
   ]
  },
  {
   "cell_type": "markdown",
   "id": "565ef582",
   "metadata": {},
   "source": [
    "### Data Cleaning"
   ]
  },
  {
   "cell_type": "markdown",
   "id": "edb2f504",
   "metadata": {},
   "source": [
    "1. Drop PassengerId\n",
    "2. Drop Cabin\n",
    "3. Fill missing values for age\n",
    "4. Fill missing values for Fare"
   ]
  },
  {
   "cell_type": "code",
   "execution_count": 27,
   "id": "1ce2909d",
   "metadata": {},
   "outputs": [],
   "source": [
    "# drop cabin and passengerId columns\n",
    "df.drop(['PassengerId','Cabin'],axis=1,inplace=True)"
   ]
  },
  {
   "cell_type": "markdown",
   "id": "e01ee4a0",
   "metadata": {},
   "source": [
    "### Handling missing values for Age"
   ]
  },
  {
   "cell_type": "code",
   "execution_count": 28,
   "id": "b3f20a64",
   "metadata": {},
   "outputs": [
    {
     "data": {
      "text/plain": [
       "Text(0.5, 1.0, 'Age Distribution (Before Cleaning)')"
      ]
     },
     "execution_count": 28,
     "metadata": {},
     "output_type": "execute_result"
    },
    {
     "data": {
      "image/png": "[encoded data removed]",
      "text/plain": [
       "<Figure size 504x504 with 1 Axes>"
      ]
     },
     "metadata": {},
     "output_type": "display_data"
    }
   ],
   "source": [
    "fig,ax = plt.subplots(figsize=(7,7))\n",
    "age = df['Age'].dropna()\n",
    "sns.histplot(data=age,ax=ax).set_title('Age Distribution (Before Cleaning)')"
   ]
  },
  {
   "cell_type": "markdown",
   "id": "856e5c51",
   "metadata": {},
   "source": [
    "There were more people on the ship whose age between 20 to 40 years."
   ]
  },
  {
   "cell_type": "code",
   "execution_count": 29,
   "id": "25afbde0",
   "metadata": {},
   "outputs": [],
   "source": [
    "# Fill missing values with the mode of age\n",
    "df['Age'] = df['Age'].fillna(df['Age'].median())"
   ]
  },
  {
   "cell_type": "code",
   "execution_count": 30,
   "id": "72abd622",
   "metadata": {},
   "outputs": [
    {
     "data": {
      "text/plain": [
       "Text(0.5, 1.0, 'Age Distribution (After Cleaning)')"
      ]
     },
     "execution_count": 30,
     "metadata": {},
     "output_type": "execute_result"
    },
    {
     "data": {
      "image/png": "[encoded data removed]",
      "text/plain": [
       "<Figure size 504x504 with 1 Axes>"
      ]
     },
     "metadata": {},
     "output_type": "display_data"
    }
   ],
   "source": [
    "fig,ax = plt.subplots(figsize=(7,7))\n",
    "age = df['Age'].dropna()\n",
    "sns.histplot(data=age,ax=ax).set_title('Age Distribution (After Cleaning)')"
   ]
  },
  {
   "cell_type": "markdown",
   "id": "0b745143",
   "metadata": {},
   "source": [
    "### Handling missing values for Fare"
   ]
  },
  {
   "cell_type": "code",
   "execution_count": 32,
   "id": "a4c4f9f8",
   "metadata": {},
   "outputs": [
    {
     "data": {
      "text/plain": [
       "Text(0.5, 1.0, 'Fare Distribution (Before Cleaning)')"
      ]
     },
     "execution_count": 32,
     "metadata": {},
     "output_type": "execute_result"
    },
    {
     "data": {
      "image/png": "[encoded data removed]",
      "text/plain": [
       "<Figure size 504x504 with 1 Axes>"
      ]
     },
     "metadata": {},
     "output_type": "display_data"
    }
   ],
   "source": [
    "fig,ax = plt.subplots(figsize=(7,7))\n",
    "age = df['Fare'].dropna()\n",
    "sns.histplot(data=age,ax=ax).set_title('Fare Distribution (Before Cleaning)')"
   ]
  },
  {
   "cell_type": "code",
   "execution_count": 34,
   "id": "e364c15b",
   "metadata": {},
   "outputs": [],
   "source": [
    "# Fill Fare values by its mode\n",
    "df['Fare'] = df['Fare'].fillna(df['Fare'].mode()[0])"
   ]
  },
  {
   "cell_type": "markdown",
   "id": "c467b9a8",
   "metadata": {},
   "source": [
    "### Handling missing values for Emabarked"
   ]
  },
  {
   "cell_type": "code",
   "execution_count": 36,
   "id": "a165521a",
   "metadata": {},
   "outputs": [
    {
     "data": {
      "text/plain": [
       "Text(0.5, 1.0, 'Embarked Distribution')"
      ]
     },
     "execution_count": 36,
     "metadata": {},
     "output_type": "execute_result"
    },
    {
     "data": {
      "image/png": "[encoded data removed]",
      "text/plain": [
       "<Figure size 504x504 with 1 Axes>"
      ]
     },
     "metadata": {},
     "output_type": "display_data"
    }
   ],
   "source": [
    "fig,ax = plt.subplots(figsize=(7,7))\n",
    "age = df['Embarked'].dropna()\n",
    "sns.histplot(data=age,ax=ax).set_title(\"Embarked Distribution\")"
   ]
  },
  {
   "cell_type": "markdown",
   "id": "9b54a027",
   "metadata": {},
   "source": [
    "- S = Southhamption\n",
    "- C = Cherbourg\n",
    "- Q = Queenstown\n",
    "\n",
    "Most people embarked from Southhampton"
   ]
  },
  {
   "cell_type": "code",
   "execution_count": 37,
   "id": "f690b8d7",
   "metadata": {},
   "outputs": [],
   "source": [
    "df['Embarked'] = df['Embarked'].fillna(df['Embarked'].mode()[0])"
   ]
  },
  {
   "cell_type": "markdown",
   "id": "93307d9f",
   "metadata": {},
   "source": [
    "### Exploratory Data Analysis"
   ]
  },
  {
   "cell_type": "code",
   "execution_count": 38,
   "id": "96dddf45",
   "metadata": {},
   "outputs": [
    {
     "data": {
      "text/plain": [
       "Index(['Survived', 'Pclass', 'Name', 'Sex', 'Age', 'SibSp', 'Parch', 'Ticket',\n",
       "       'Fare', 'Embarked'],\n",
       "      dtype='object')"
      ]
     },
     "execution_count": 38,
     "metadata": {},
     "output_type": "execute_result"
    }
   ],
   "source": [
    "df.columns"
   ]
  },
  {
   "cell_type": "code",
   "execution_count": 39,
   "id": "8e3875b3",
   "metadata": {},
   "outputs": [
    {
     "name": "stdout",
     "output_type": "stream",
     "text": [
      "<class 'pandas.core.frame.DataFrame'>\n",
      "Int64Index: 1309 entries, 0 to 417\n",
      "Data columns (total 10 columns):\n",
      " #   Column    Non-Null Count  Dtype  \n",
      "---  ------    --------------  -----  \n",
      " 0   Survived  891 non-null    float64\n",
      " 1   Pclass    1309 non-null   int64  \n",
      " 2   Name      1309 non-null   object \n",
      " 3   Sex       1309 non-null   object \n",
      " 4   Age       1309 non-null   float64\n",
      " 5   SibSp     1309 non-null   int64  \n",
      " 6   Parch     1309 non-null   int64  \n",
      " 7   Ticket    1309 non-null   object \n",
      " 8   Fare      1309 non-null   float64\n",
      " 9   Embarked  1309 non-null   object \n",
      "dtypes: float64(3), int64(3), object(4)\n",
      "memory usage: 112.5+ KB\n"
     ]
    }
   ],
   "source": [
    "df.info()"
   ]
  },
  {
   "cell_type": "markdown",
   "id": "a55c127f",
   "metadata": {},
   "source": [
    "#### Univariate analysis"
   ]
  },
  {
   "cell_type": "code",
   "execution_count": 40,
   "id": "7eb47665",
   "metadata": {},
   "outputs": [],
   "source": [
    "def show_univariate_chart(df, variable,title):\n",
    "    fig,ax = plt.subplots(figsize=(7,7))\n",
    "    age = df[variable].dropna()\n",
    "    age.value_counts().plot(kind=\"bar\",title=f\"{title} Distribution\")\n",
    "    plt.xlabel(title)\n",
    "    plt.ylabel(\"Count\")"
   ]
  },
  {
   "cell_type": "code",
   "execution_count": 41,
   "id": "04658fc1",
   "metadata": {},
   "outputs": [
    {
     "data": {
      "image/png": "[encoded data removed]",
      "text/plain": [
       "<Figure size 504x504 with 1 Axes>"
      ]
     },
     "metadata": {},
     "output_type": "display_data"
    }
   ],
   "source": [
    "show_univariate_chart(df,\"Pclass\",\"Ticket Class\")"
   ]
  },
  {
   "cell_type": "markdown",
   "id": "f077dd63",
   "metadata": {},
   "source": [
    "* 3 = Lower Class\n",
    "* 2 = Middle Class\n",
    "* 1 = Upper Class\n",
    "​\n",
    "There were more lower class people on the ship"
   ]
  },
  {
   "cell_type": "code",
   "execution_count": 42,
   "id": "b31fd9d3",
   "metadata": {},
   "outputs": [
    {
     "data": {
      "image/png": "[encoded data removed]",
      "text/plain": [
       "<Figure size 504x504 with 1 Axes>"
      ]
     },
     "metadata": {},
     "output_type": "display_data"
    }
   ],
   "source": [
    "show_univariate_chart(df,\"Sex\",\"Sex\")"
   ]
  },
  {
   "cell_type": "markdown",
   "id": "b4b255de",
   "metadata": {},
   "source": [
    "There were more males than females on the ship"
   ]
  },
  {
   "cell_type": "code",
   "execution_count": 43,
   "id": "3ab568d2",
   "metadata": {},
   "outputs": [
    {
     "data": {
      "image/png": "[encoded data removed]",
      "text/plain": [
       "<Figure size 504x504 with 1 Axes>"
      ]
     },
     "metadata": {},
     "output_type": "display_data"
    }
   ],
   "source": [
    "show_univariate_chart(df,\"SibSp\",\"Siblings and Spouse\")"
   ]
  },
  {
   "cell_type": "code",
   "execution_count": 44,
   "id": "770a09cd",
   "metadata": {},
   "outputs": [
    {
     "data": {
      "image/png": "[encoded data removed]",
      "text/plain": [
       "<Figure size 504x504 with 1 Axes>"
      ]
     },
     "metadata": {},
     "output_type": "display_data"
    }
   ],
   "source": [
    "show_univariate_chart(df,\"Parch\",\"Parents and Children\")"
   ]
  },
  {
   "cell_type": "markdown",
   "id": "4906740c",
   "metadata": {},
   "source": [
    "#### Corelations"
   ]
  },
  {
   "cell_type": "code",
   "execution_count": 45,
   "id": "7d9b3dc9",
   "metadata": {},
   "outputs": [
    {
     "data": {
      "text/plain": [
       "<AxesSubplot:>"
      ]
     },
     "execution_count": 45,
     "metadata": {},
     "output_type": "execute_result"
    },
    {
     "data": {
      "image/png": "[encoded data removed]",
      "text/plain": [
       "<Figure size 432x288 with 2 Axes>"
      ]
     },
     "metadata": {},
     "output_type": "display_data"
    }
   ],
   "source": [
    "sns.heatmap(df.dropna().corr(), cmap=\"Oranges\")"
   ]
  },
  {
   "cell_type": "code",
   "execution_count": 46,
   "id": "a173e1d7",
   "metadata": {},
   "outputs": [
    {
     "data": {
      "text/plain": [
       "Text(0.5, 1.0, 'Age to Survival Ratio')"
      ]
     },
     "execution_count": 46,
     "metadata": {},
     "output_type": "execute_result"
    },
    {
     "data": {
      "image/png": "[encoded data removed]",
      "text/plain": [
       "<Figure size 504x504 with 1 Axes>"
      ]
     },
     "metadata": {},
     "output_type": "display_data"
    }
   ],
   "source": [
    "fig, ax = plt.subplots(figsize=(7,7))\n",
    "sns.histplot(data=df.dropna(),x=\"Age\",hue=\"Survived\",multiple=\"stack\",ax=ax).set_title(\"Age to Survival Ratio\")"
   ]
  },
  {
   "cell_type": "code",
   "execution_count": 47,
   "id": "f5d46359",
   "metadata": {},
   "outputs": [
    {
     "data": {
      "text/plain": [
       "Text(0.5, 0, 'Gender')"
      ]
     },
     "execution_count": 47,
     "metadata": {},
     "output_type": "execute_result"
    },
    {
     "data": {
      "image/png": "[encoded data removed]",
      "text/plain": [
       "<Figure size 504x504 with 1 Axes>"
      ]
     },
     "metadata": {},
     "output_type": "display_data"
    }
   ],
   "source": [
    "fig, ax = plt.subplots(figsize=(7,7))\n",
    "sns.histplot(data=df.dropna(),x=\"Sex\",hue=\"Survived\",multiple=\"stack\",ax=ax).set_title(\"Gender to Survival Ratio\")\n",
    "plt.xlabel(\"Gender\")"
   ]
  },
  {
   "cell_type": "markdown",
   "id": "5f0922a1",
   "metadata": {},
   "source": [
    "Females were prioritized during the evacuation\n"
   ]
  },
  {
   "cell_type": "code",
   "execution_count": 49,
   "id": "f962e28e",
   "metadata": {},
   "outputs": [
    {
     "data": {
      "text/plain": [
       "Text(0.5, 0, 'Passenger Class')"
      ]
     },
     "execution_count": 49,
     "metadata": {},
     "output_type": "execute_result"
    },
    {
     "data": {
      "image/png": "[encoded data removed]",
      "text/plain": [
       "<Figure size 504x504 with 1 Axes>"
      ]
     },
     "metadata": {},
     "output_type": "display_data"
    }
   ],
   "source": [
    "fig, ax = plt.subplots(figsize=(7,7))\n",
    "sns.histplot(data=df.dropna(),x=\"Pclass\",hue=\"Survived\",multiple=\"stack\",ax=ax).set_title(\"Passenger Class to Survival Ratio\")\n",
    "plt.xlabel(\"Passenger Class\")\n"
   ]
  },
  {
   "cell_type": "markdown",
   "id": "15504e6b",
   "metadata": {},
   "source": [
    "First class passengers were given more priority during evacuation\n"
   ]
  },
  {
   "cell_type": "code",
   "execution_count": 50,
   "id": "a8addf86",
   "metadata": {},
   "outputs": [
    {
     "data": {
      "text/plain": [
       "Text(0.5, 0, 'Embarked From')"
      ]
     },
     "execution_count": 50,
     "metadata": {},
     "output_type": "execute_result"
    },
    {
     "data": {
      "image/png": "[encoded data removed]",
      "text/plain": [
       "<Figure size 504x504 with 1 Axes>"
      ]
     },
     "metadata": {},
     "output_type": "display_data"
    }
   ],
   "source": [
    "fig, ax = plt.subplots(figsize=(7,7))\n",
    "sns.histplot(data=df.dropna(),x=\"Embarked\",hue=\"Survived\",multiple=\"stack\",ax=ax).set_title(\"Embarked to Survival Ratio\")\n",
    "plt.xlabel(\"Embarked From\")\n"
   ]
  },
  {
   "cell_type": "markdown",
   "id": "046816d3",
   "metadata": {},
   "source": [
    "People who embarked from Southhampton had more survival ratio than people who emabarked from somewhere else\n"
   ]
  },
  {
   "cell_type": "code",
   "execution_count": 51,
   "id": "ee1f1b08",
   "metadata": {},
   "outputs": [
    {
     "data": {
      "text/plain": [
       "Text(0.5, 0, 'Siblings / Spouse')"
      ]
     },
     "execution_count": 51,
     "metadata": {},
     "output_type": "execute_result"
    },
    {
     "data": {
      "image/png": "[encoded data removed]",
      "text/plain": [
       "<Figure size 504x504 with 1 Axes>"
      ]
     },
     "metadata": {},
     "output_type": "display_data"
    }
   ],
   "source": [
    "fig, ax = plt.subplots(figsize=(7,7))\n",
    "sns.histplot(data=df.dropna(),x=\"SibSp\",hue=\"Survived\",multiple=\"stack\",ax=ax).set_title(\"Sibling/Spouse to Survival Ratio\")\n",
    "plt.xlabel(\"Siblings / Spouse\")"
   ]
  },
  {
   "cell_type": "code",
   "execution_count": 52,
   "id": "2d0fcb62",
   "metadata": {},
   "outputs": [
    {
     "data": {
      "text/plain": [
       "Text(0.5, 0, 'Parent/Children Count')"
      ]
     },
     "execution_count": 52,
     "metadata": {},
     "output_type": "execute_result"
    },
    {
     "data": {
      "image/png": "[encoded data removed]",
      "text/plain": [
       "<Figure size 504x504 with 1 Axes>"
      ]
     },
     "metadata": {},
     "output_type": "display_data"
    }
   ],
   "source": [
    "fig, ax = plt.subplots(figsize=(7,7))\n",
    "sns.histplot(data=df.dropna(),x=\"Parch\",hue=\"Survived\",multiple=\"stack\",ax=ax).set_title(\"Parent/Children Count to Survival Ratio\")\n",
    "plt.xlabel(\"Parent/Children Count\")\n"
   ]
  },
  {
   "cell_type": "markdown",
   "id": "24e00caf",
   "metadata": {},
   "source": [
    "Check if row with parch value 3 is an outlier or not?"
   ]
  },
  {
   "cell_type": "markdown",
   "id": "7853fb21",
   "metadata": {},
   "source": [
    "#### Passenger Initials Importance"
   ]
  },
  {
   "cell_type": "code",
   "execution_count": 53,
   "id": "f15e016b",
   "metadata": {},
   "outputs": [],
   "source": [
    "def get_initial(name):\n",
    "    return name.split(\",\")[1].split(\". \")[0]\n",
    "\n",
    "df['Initial'] = df['Name'].apply(lambda x: get_initial(x))"
   ]
  },
  {
   "cell_type": "code",
   "execution_count": 54,
   "id": "a7f1d33f",
   "metadata": {},
   "outputs": [
    {
     "data": {
      "text/plain": [
       "Text(0.5, 0, 'Initials')"
      ]
     },
     "execution_count": 54,
     "metadata": {},
     "output_type": "execute_result"
    },
    {
     "data": {
      "image/png": "[encoded data removed]",
      "text/plain": [
       "<Figure size 720x720 with 1 Axes>"
      ]
     },
     "metadata": {},
     "output_type": "display_data"
    }
   ],
   "source": [
    "fig, ax = plt.subplots(figsize=(10,10))\n",
    "sns.histplot(data=df.dropna(),y=\"Initial\",hue=\"Survived\",multiple=\"stack\",ax=ax).set_title(\"Initial to Survival Ratio\")\n",
    "plt.xlabel(\"Initials\")"
   ]
  },
  {
   "cell_type": "markdown",
   "id": "92d7b42e",
   "metadata": {},
   "source": [
    "### Regression\n",
    "---\n",
    "\n",
    "1. Feature Selection\n",
    "2. Convert categorical datapoints to numericals\n",
    "3. Split test and training data\n",
    "4. Test on different models\n",
    "5. Select the one with best accuracy"
   ]
  },
  {
   "cell_type": "markdown",
   "id": "5c137183",
   "metadata": {},
   "source": [
    "#### Handle Categorical Values"
   ]
  },
  {
   "cell_type": "code",
   "execution_count": 55,
   "id": "367c4156",
   "metadata": {},
   "outputs": [],
   "source": [
    "from sklearn.preprocessing import LabelEncoder"
   ]
  },
  {
   "cell_type": "code",
   "execution_count": 56,
   "id": "ae6c7caf",
   "metadata": {},
   "outputs": [],
   "source": [
    "sex_le = LabelEncoder()\n",
    "sex_le.fit(df.Sex)\n",
    "sex_transformed = sex_le.transform(df.Sex)\n",
    "df['Sex'] = sex_transformed"
   ]
  },
  {
   "cell_type": "code",
   "execution_count": 57,
   "id": "d0c7e7d5",
   "metadata": {},
   "outputs": [],
   "source": [
    "embarked_le = LabelEncoder()\n",
    "embarked_le.fit(df.Embarked)\n",
    "embarked_transformed = embarked_le.transform(df.Embarked)\n",
    "df['Embarked'] = embarked_transformed"
   ]
  },
  {
   "cell_type": "code",
   "execution_count": 58,
   "id": "87aebb5c",
   "metadata": {},
   "outputs": [],
   "source": [
    "initial_le = LabelEncoder()\n",
    "initial_le.fit(df['Initial'])\n",
    "initial_transformed = initial_le.transform(df['Initial'])\n",
    "df['Initial'] = initial_transformed"
   ]
  },
  {
   "cell_type": "code",
   "execution_count": 59,
   "id": "15b6237b",
   "metadata": {},
   "outputs": [],
   "source": [
    "df['Age'] = df['Age'].astype(int)"
   ]
  },
  {
   "cell_type": "markdown",
   "id": "c8fb8be8",
   "metadata": {},
   "source": [
    "#### Feature Selection"
   ]
  },
  {
   "cell_type": "code",
   "execution_count": 60,
   "id": "ca05cef0",
   "metadata": {},
   "outputs": [],
   "source": [
    "irrelevant_features = ['Ticket','Fare','Name']\n",
    "model_df = df.drop(irrelevant_features,axis=1)\n",
    "model_df.dropna(inplace=True)"
   ]
  },
  {
   "cell_type": "markdown",
   "id": "3d3b24e3",
   "metadata": {},
   "source": [
    "### Prepare Train Test Data"
   ]
  },
  {
   "cell_type": "code",
   "execution_count": 61,
   "id": "a680a7cb",
   "metadata": {},
   "outputs": [],
   "source": [
    "from sklearn.model_selection import train_test_split"
   ]
  },
  {
   "cell_type": "code",
   "execution_count": 62,
   "id": "3e50a3b0",
   "metadata": {},
   "outputs": [],
   "source": [
    "y = model_df['Survived']\n",
    "x = model_df.drop(['Survived'],axis=1)"
   ]
  },
  {
   "cell_type": "code",
   "execution_count": 63,
   "id": "bc30a83d",
   "metadata": {},
   "outputs": [],
   "source": [
    "x_train, x_test, y_train,y_test = train_test_split(x, y)"
   ]
  },
  {
   "cell_type": "markdown",
   "id": "16fa9870",
   "metadata": {},
   "source": [
    "#### Build Classification Model"
   ]
  },
  {
   "cell_type": "code",
   "execution_count": 64,
   "id": "d38f3f21",
   "metadata": {},
   "outputs": [],
   "source": [
    "from sklearn import metrics"
   ]
  },
  {
   "cell_type": "markdown",
   "id": "903399cf",
   "metadata": {},
   "source": [
    "#### Logistic Regression"
   ]
  },
  {
   "cell_type": "code",
   "execution_count": 65,
   "id": "f04d21eb",
   "metadata": {},
   "outputs": [
    {
     "name": "stdout",
     "output_type": "stream",
     "text": [
      "0.8161434977578476\n"
     ]
    }
   ],
   "source": [
    "from sklearn.linear_model import LogisticRegression\n",
    "log_reg = LogisticRegression()\n",
    "log_reg.fit(x_train, y_train)\n",
    "y_pred = log_reg.predict(x_test)\n",
    "print(metrics.accuracy_score(y_test, y_pred))"
   ]
  },
  {
   "cell_type": "markdown",
   "id": "96d1ec3f",
   "metadata": {},
   "source": [
    "#### Random Forest Classifier"
   ]
  },
  {
   "cell_type": "code",
   "execution_count": 66,
   "id": "d74aaecd",
   "metadata": {},
   "outputs": [
    {
     "name": "stdout",
     "output_type": "stream",
     "text": [
      "0.8071748878923767\n"
     ]
    }
   ],
   "source": [
    "from sklearn.ensemble import RandomForestClassifier\n",
    "random_forest = RandomForestClassifier()\n",
    "random_forest.fit(x_train, y_train)\n",
    "fr_pred = random_forest.predict(x_test)\n",
    "print(metrics.accuracy_score(y_test, fr_pred))"
   ]
  },
  {
   "cell_type": "markdown",
   "id": "f2a6e9b7",
   "metadata": {},
   "source": [
    "#### Support Vector Machines"
   ]
  },
  {
   "cell_type": "code",
   "execution_count": 67,
   "id": "9cee52f3",
   "metadata": {},
   "outputs": [
    {
     "name": "stdout",
     "output_type": "stream",
     "text": [
      "0.6771300448430493\n"
     ]
    }
   ],
   "source": [
    "from sklearn.svm import SVC\n",
    "svc = SVC()\n",
    "svc.fit(x_train, y_train)\n",
    "svc_pred = svc.predict(x_test)\n",
    "print(metrics.accuracy_score(y_test, svc_pred))"
   ]
  },
  {
   "cell_type": "markdown",
   "id": "268bfb1a",
   "metadata": {},
   "source": [
    "#### Decision Tree Classifier"
   ]
  },
  {
   "cell_type": "code",
   "execution_count": 68,
   "id": "5115a60e",
   "metadata": {},
   "outputs": [
    {
     "name": "stdout",
     "output_type": "stream",
     "text": [
      "0.7802690582959642\n"
     ]
    }
   ],
   "source": [
    "from sklearn.tree import DecisionTreeClassifier\n",
    "dc = DecisionTreeClassifier()\n",
    "dc.fit(x_train, y_train)\n",
    "dc_pred = dc.predict(x_test)\n",
    "print(metrics.accuracy_score(y_test, dc_pred))"
   ]
  },
  {
   "cell_type": "markdown",
   "id": "aeceb312",
   "metadata": {},
   "source": [
    "#### Testing on actual test set"
   ]
  },
  {
   "cell_type": "code",
   "execution_count": 69,
   "id": "cf1e6777",
   "metadata": {},
   "outputs": [],
   "source": [
    "test_df = df[df['Survived'].isnull()]\n",
    "test_df = test_df.drop(['Survived'],axis=1)"
   ]
  },
  {
   "cell_type": "code",
   "execution_count": 70,
   "id": "ffed7dc3",
   "metadata": {},
   "outputs": [],
   "source": [
    "test_df = test_df.drop(irrelevant_features,axis=1)"
   ]
  },
  {
   "cell_type": "code",
   "execution_count": 71,
   "id": "d5e8ef1a",
   "metadata": {},
   "outputs": [],
   "source": [
    "test_set_pred = log_reg.predict(test_df)"
   ]
  },
  {
   "cell_type": "markdown",
   "id": "95df361a",
   "metadata": {},
   "source": [
    "#### Create Submission Dataframe"
   ]
  },
  {
   "cell_type": "code",
   "execution_count": 72,
   "id": "4399c7b8",
   "metadata": {},
   "outputs": [
    {
     "data": {
      "text/html": [
       "<div>\n",
       "<style scoped>\n",
       "    .dataframe tbody tr th:only-of-type {\n",
       "        vertical-align: middle;\n",
       "    }\n",
       "\n",
       "    .dataframe tbody tr th {\n",
       "        vertical-align: top;\n",
       "    }\n",
       "\n",
       "    .dataframe thead th {\n",
       "        text-align: right;\n",
       "    }\n",
       "</style>\n",
       "<table border=\"1\" class=\"dataframe\">\n",
       "  <thead>\n",
       "    <tr style=\"text-align: right;\">\n",
       "      <th></th>\n",
       "      <th>PassengerId</th>\n",
       "      <th>Survived</th>\n",
       "    </tr>\n",
       "  </thead>\n",
       "  <tbody>\n",
       "    <tr>\n",
       "      <th>0</th>\n",
       "      <td>892</td>\n",
       "      <td>0.0</td>\n",
       "    </tr>\n",
       "    <tr>\n",
       "      <th>1</th>\n",
       "      <td>893</td>\n",
       "      <td>0.0</td>\n",
       "    </tr>\n",
       "    <tr>\n",
       "      <th>2</th>\n",
       "      <td>894</td>\n",
       "      <td>0.0</td>\n",
       "    </tr>\n",
       "    <tr>\n",
       "      <th>3</th>\n",
       "      <td>895</td>\n",
       "      <td>0.0</td>\n",
       "    </tr>\n",
       "    <tr>\n",
       "      <th>4</th>\n",
       "      <td>896</td>\n",
       "      <td>1.0</td>\n",
       "    </tr>\n",
       "    <tr>\n",
       "      <th>5</th>\n",
       "      <td>897</td>\n",
       "      <td>0.0</td>\n",
       "    </tr>\n",
       "    <tr>\n",
       "      <th>6</th>\n",
       "      <td>898</td>\n",
       "      <td>1.0</td>\n",
       "    </tr>\n",
       "    <tr>\n",
       "      <th>7</th>\n",
       "      <td>899</td>\n",
       "      <td>0.0</td>\n",
       "    </tr>\n",
       "    <tr>\n",
       "      <th>8</th>\n",
       "      <td>900</td>\n",
       "      <td>1.0</td>\n",
       "    </tr>\n",
       "    <tr>\n",
       "      <th>9</th>\n",
       "      <td>901</td>\n",
       "      <td>0.0</td>\n",
       "    </tr>\n",
       "  </tbody>\n",
       "</table>\n",
       "</div>"
      ],
      "text/plain": [
       "   PassengerId  Survived\n",
       "0          892       0.0\n",
       "1          893       0.0\n",
       "2          894       0.0\n",
       "3          895       0.0\n",
       "4          896       1.0\n",
       "5          897       0.0\n",
       "6          898       1.0\n",
       "7          899       0.0\n",
       "8          900       1.0\n",
       "9          901       0.0"
      ]
     },
     "execution_count": 72,
     "metadata": {},
     "output_type": "execute_result"
    }
   ],
   "source": [
    "passenger_ids = list(test['PassengerId'])\n",
    "submission_df = pd.DataFrame({\"PassengerId\":passenger_ids, \"Survived\":test_set_pred})\n",
    "submission_df.head(10)"
   ]
  },
  {
   "cell_type": "code",
   "execution_count": 73,
   "id": "3622b78a",
   "metadata": {},
   "outputs": [],
   "source": [
    "submission_df['Survived'] = submission_df['Survived'].astype(int)"
   ]
  },
  {
   "cell_type": "code",
   "execution_count": 74,
   "id": "3dd37d02",
   "metadata": {},
   "outputs": [],
   "source": [
    "submission_df.to_csv(\"submission_int.csv\",index=False)\n"
   ]
  },
  {
   "cell_type": "code",
   "execution_count": null,
   "id": "b18e42ea",
   "metadata": {},
   "outputs": [],
   "source": []
  }
 ],
 "metadata": {
  "kernelspec": {
   "display_name": "Python 3 (ipykernel)",
   "language": "python",
   "name": "python3"
  },
  "language_info": {
   "codemirror_mode": {
    "name": "ipython",
    "version": 3
   },
   "file_extension": ".py",
   "mimetype": "text/x-python",
   "name": "python",
   "nbconvert_exporter": "python",
   "pygments_lexer": "ipython3",
   "version": "3.9.7"
  }
 },
 "nbformat": 4,
 "nbformat_minor": 5
}
